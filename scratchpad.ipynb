{
 "cells": [
  {
   "cell_type": "code",
   "execution_count": 1,
   "metadata": {},
   "outputs": [],
   "source": [
    "import xml.dom.minidom as xml_parse\n",
    "import xml.etree.ElementTree as ET\n",
    "import os"
   ]
  },
  {
   "cell_type": "code",
   "execution_count": 2,
   "metadata": {},
   "outputs": [],
   "source": [
    "lbl_path = 'dataset/IDD_Detection/Annotations/highquality_16k/BLR-2018-06-06_16-41-17/0002963.xml'"
   ]
  },
  {
   "cell_type": "code",
   "execution_count": 3,
   "metadata": {},
   "outputs": [],
   "source": [
    "annotation_tree = ET.parse(lbl_path)"
   ]
  },
  {
   "cell_type": "code",
   "execution_count": 9,
   "metadata": {},
   "outputs": [
    {
     "name": "stdout",
     "output_type": "stream",
     "text": [
      "<Element 'annotation' at 0x7fad2c12af98>\n"
     ]
    }
   ],
   "source": [
    "annotation_root = annotation_tree.getroot()\n",
    "print(annotation_root)"
   ]
  },
  {
   "cell_type": "code",
   "execution_count": 52,
   "metadata": {},
   "outputs": [
    {
     "name": "stdout",
     "output_type": "stream",
     "text": [
      "70\n",
      "[0, 'autorickshaw', 875, 526, 901, 511]\n",
      "[1, 'truck', 895, 531, 921, 503]\n",
      "[2, 'truck', 916, 545, 959, 499]\n",
      "[3, 'person', 866, 529, 882, 515]\n",
      "[4, 'person', 882, 531, 894, 521]\n",
      "[5, 'person', 891, 528, 901, 522]\n",
      "[6, 'autorickshaw', 861, 570, 894, 524]\n",
      "[7, 'autorickshaw', 884, 610, 944, 528]\n",
      "[8, 'person', 936, 570, 965, 531]\n",
      "[9, 'person', 957, 573, 970, 528]\n",
      "[10, 'motorcycle', 959, 564, 1001, 534]\n",
      "[11, 'person', 975, 633, 998, 542]\n",
      "[12, 'person', 985, 651, 1020, 531]\n",
      "[13, 'motorcycle', 936, 648, 978, 564]\n",
      "[14, 'rider', 929, 631, 979, 541]\n",
      "[15, 'motorcycle', 848, 644, 904, 563]\n",
      "[16, 'rider', 853, 603, 898, 541]\n",
      "[17, 'rider', 845, 534, 855, 518]\n",
      "[18, 'car', 771, 610, 853, 516]\n",
      "[19, 'person', 794, 677, 839, 534]\n",
      "[20, 'person', 736, 677, 785, 534]\n",
      "[21, 'person', 749, 586, 784, 525]\n",
      "[22, 'person', 723, 626, 751, 526]\n",
      "[23, 'person', 691, 657, 739, 534]\n",
      "[24, 'motorcycle', 665, 680, 720, 560]\n",
      "[25, 'person', 629, 683, 696, 531]\n",
      "[26, 'vehicle fallback', 583, 649, 710, 561]\n",
      "[27, 'vehicle fallback', 496, 701, 639, 602]\n",
      "[28, 'vehicle fallback', 334, 730, 519, 622]\n",
      "[29, 'person', 550, 597, 592, 526]\n",
      "[30, 'person', 474, 707, 537, 547]\n",
      "[31, 'person', 327, 699, 377, 521]\n",
      "[32, 'person', 283, 694, 341, 563]\n",
      "[33, 'person', 205, 655, 244, 496]\n",
      "[34, 'person', 169, 662, 230, 508]\n",
      "[35, 'motorcycle', 187, 775, 383, 610]\n",
      "[36, 'vehicle fallback', 30, 829, 330, 636]\n",
      "[37, 'autorickshaw', 1, 1073, 85, 557]\n",
      "[38, 'motorcycle', 1014, 609, 1037, 544]\n",
      "[39, 'motorcycle', 1016, 612, 1041, 548]\n",
      "[40, 'motorcycle', 1020, 621, 1065, 552]\n",
      "[41, 'motorcycle', 1037, 646, 1056, 548]\n",
      "[42, 'motorcycle', 1043, 649, 1088, 550]\n",
      "[43, 'motorcycle', 1065, 674, 1117, 549]\n",
      "[44, 'truck', 1056, 592, 1149, 490]\n",
      "[45, 'truck', 1117, 587, 1188, 522]\n",
      "[46, 'truck', 1141, 526, 1208, 480]\n",
      "[47, 'truck', 1157, 615, 1301, 499]\n",
      "[48, 'truck', 1254, 635, 1377, 509]\n",
      "[49, 'motorcycle', 1064, 670, 1243, 584]\n",
      "[50, 'motorcycle', 1098, 692, 1251, 576]\n",
      "[51, 'motorcycle', 1123, 710, 1264, 575]\n",
      "[52, 'motorcycle', 1164, 734, 1276, 576]\n",
      "[53, 'motorcycle', 1206, 761, 1272, 617]\n",
      "[54, 'vehicle fallback', 1231, 766, 1425, 576]\n",
      "[55, 'vehicle fallback', 1222, 517, 1374, 482]\n",
      "[56, 'car', 1288, 617, 1430, 521]\n",
      "[57, 'car', 1335, 627, 1512, 546]\n",
      "[58, 'car', 1408, 659, 1550, 557]\n",
      "[59, 'car', 1458, 736, 1712, 510]\n",
      "[60, 'autorickshaw', 1646, 739, 1884, 535]\n",
      "[61, 'motorcycle', 1274, 796, 1500, 611]\n",
      "[62, 'person', 1235, 866, 1351, 544]\n",
      "[63, 'vehicle fallback', 1686, 744, 1918, 634]\n",
      "[64, 'vehicle fallback', 1573, 1008, 1906, 710]\n",
      "[65, 'traffic sign', 1402, 432, 1423, 351]\n",
      "[66, 'person', 862, 531, 871, 522]\n",
      "[67, 'rider', 850, 550, 863, 527]\n",
      "[68, 'motorcycle', 852, 556, 861, 540]\n",
      "[69, 'truck', 1022, 548, 1068, 484]\n"
     ]
    }
   ],
   "source": [
    "anno_obj = dict()\n",
    "object_list = list()\n",
    "counter = 0\n",
    "for iobj in annotation_root:\n",
    "    temp = list()\n",
    "    if iobj.tag.lower() == \"filename\":\n",
    "        anno_obj[\"filename\"] = [iobj.text]\n",
    "    if iobj.tag.lower() == \"size\":\n",
    "        anno_obj[\"size\"] = [iobj[0].text, iobj[1].text] \n",
    "    if iobj.tag.lower() == \"object\":    \n",
    "        temp.append(counter)        # Box ID\n",
    "        temp.append(iobj[0].text)   # Box Class\n",
    "        temp.append(int(iobj[1][0].text))   # Box x0\n",
    "        temp.append(int(iobj[1][1].text))   # Box y0\n",
    "        temp.append(int(iobj[1][2].text))   # Box x1\n",
    "        temp.append(int(iobj[1][3].text))   # Box y1\n",
    "        counter += 1\n",
    "        object_list.append(temp)\n",
    "print(counter)\n",
    "anno_obj[\"object_list\"] = object_list\n",
    "for iobj in anno_obj[\"object_list\"]:\n",
    "    print(iobj)\n"
   ]
  },
  {
   "cell_type": "code",
   "execution_count": null,
   "metadata": {},
   "outputs": [],
   "source": []
  },
  {
   "cell_type": "code",
   "execution_count": null,
   "metadata": {},
   "outputs": [],
   "source": []
  }
 ],
 "metadata": {
  "kernelspec": {
   "display_name": "Python 3",
   "language": "python",
   "name": "python3"
  },
  "language_info": {
   "codemirror_mode": {
    "name": "ipython",
    "version": 3
   },
   "file_extension": ".py",
   "mimetype": "text/x-python",
   "name": "python",
   "nbconvert_exporter": "python",
   "pygments_lexer": "ipython3",
   "version": "3.6.7"
  }
 },
 "nbformat": 4,
 "nbformat_minor": 2
}
